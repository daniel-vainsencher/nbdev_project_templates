{
 "cells": [
  {
   "cell_type": "markdown",
   "id": "4c3fb795-667f-406e-a0a7-dcfa042fcea3",
   "metadata": {
    "tags": []
   },
   "source": [
    "# definitions\n",
    "\n",
    "> Fill in a module description here"
   ]
  },
  {
   "cell_type": "code",
   "execution_count": null,
   "id": "04556e87-4dee-4305-85e2-2129aa0461cb",
   "metadata": {
    "tags": []
   },
   "outputs": [],
   "source": [
    "#| default_exp definitions\n",
    "\n",
    "# Any functions exported below without specifying the module will be in definitions.py"
   ]
  },
  {
   "cell_type": "code",
   "execution_count": null,
   "id": "c18a3deb-0a76-4c1c-892d-86f35fe42912",
   "metadata": {
    "slideshow": {
     "slide_type": "skip"
    }
   },
   "outputs": [],
   "source": [
    "#| hide\n",
    "# This code will be excluded from nbdev_docs generated due to \"#| hide\"\n",
    "# And also from slides because its Slide Type = Skip.\n",
    "\n",
    "from nbdev.showdoc import *"
   ]
  },
  {
   "cell_type": "code",
   "execution_count": null,
   "id": "3842ef78-8557-4341-b323-20e3fed0dcf5",
   "metadata": {
    "slideshow": {
     "slide_type": "fragment"
    },
    "tags": []
   },
   "outputs": [],
   "source": [
    "#| export\n",
    "# Implementation hidden via tiny triangle\n",
    "# Works also in RISE (alt-R) mode, but not stored\n",
    "def foo(): \n",
    "    \"\"\"Docstring for foo\"\"\"\n",
    "    pass\n"
   ]
  },
  {
   "cell_type": "code",
   "execution_count": null,
   "id": "f57431a7-45bb-4a42-96d1-27bb48bd15c9",
   "metadata": {
    "tags": []
   },
   "outputs": [],
   "source": [
    "#| hide\n",
    "import nbdev; nbdev.nbdev_export()"
   ]
  },
  {
   "cell_type": "code",
   "execution_count": null,
   "id": "aba6b36a-14b6-489b-a0bd-54f927b84b24",
   "metadata": {
    "tags": []
   },
   "outputs": [],
   "source": [
    "# Change to False and run nbdev_test to see this is getting run\n",
    "assert True, \"nbdev_test failed? then asserting False\""
   ]
  },
  {
   "cell_type": "code",
   "execution_count": null,
   "id": "c7e23787-15e7-4f79-97a6-1cb40e699fe3",
   "metadata": {},
   "outputs": [],
   "source": []
  }
 ],
 "metadata": {
  "kernelspec": {
   "display_name": "python3",
   "language": "python",
   "name": "python3"
  }
 },
 "nbformat": 4,
 "nbformat_minor": 5
}
