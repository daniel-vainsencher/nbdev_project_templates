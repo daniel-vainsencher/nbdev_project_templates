{
 "cells": [
  {
   "cell_type": "markdown",
   "id": "6014e8ad-783e-48ce-bf19-db3c854f04a0",
   "metadata": {},
   "source": [
    "# Don't test reports"
   ]
  },
  {
   "cell_type": "code",
   "execution_count": null,
   "id": "f9ecc162-5e52-466c-8d77-417ce8e7c37f",
   "metadata": {
    "tags": []
   },
   "outputs": [
    {
     "ename": "AssertionError",
     "evalue": "",
     "output_type": "error",
     "traceback": [
      "\u001b[0;31m---------------------------------------------------------------------------\u001b[0m",
      "\u001b[0;31mAssertionError\u001b[0m                            Traceback (most recent call last)",
      "Cell \u001b[0;32mIn[4], line 4\u001b[0m\n\u001b[1;32m      1\u001b[0m \u001b[38;5;66;03m# Note that diagrams seem to be incompatible with nbdev_test, so this notebook is \u001b[39;00m\n\u001b[1;32m      2\u001b[0m \u001b[38;5;66;03m# excluded (along with rest of nbs directory itself) by existence of .notest file\u001b[39;00m\n\u001b[1;32m      3\u001b[0m \u001b[38;5;66;03m# Exclusion demonstrated by nbdev_test passing despite the following:\u001b[39;00m\n\u001b[0;32m----> 4\u001b[0m \u001b[38;5;28;01massert\u001b[39;00m \u001b[38;5;28;01mFalse\u001b[39;00m\n",
      "\u001b[0;31mAssertionError\u001b[0m: "
     ]
    }
   ],
   "source": [
    "# Note that diagrams seem to be incompatible with nbdev_test, so this notebook is \n",
    "# excluded (along with rest of nbs directory itself) by existence of .notest file\n",
    "# Exclusion demonstrated by nbdev_test passing despite the following:\n",
    "assert False"
   ]
  }
 ],
 "metadata": {
  "kernelspec": {
   "display_name": "python3",
   "language": "python",
   "name": "python3"
  }
 },
 "nbformat": 4,
 "nbformat_minor": 5
}
