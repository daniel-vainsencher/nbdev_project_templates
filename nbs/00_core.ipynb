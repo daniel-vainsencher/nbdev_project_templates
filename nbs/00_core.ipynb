{
 "cells": [
  {
   "cell_type": "markdown",
   "metadata": {
    "slideshow": {
     "slide_type": "slide"
    },
    "tags": []
   },
   "source": [
    "# core\n",
    "\n",
    "> Fill in a module description here\n",
    "\n",
    "> This template just has a lot of copy&pastable functionality"
   ]
  },
  {
   "cell_type": "markdown",
   "metadata": {
    "slideshow": {
     "slide_type": "slide"
    },
    "tags": []
   },
   "source": [
    "## Checklist\n",
    "\n",
    "- [x] Docs site\n",
    "- [x] Slides\n",
    "- [x] Diagrams\n",
    "- [x] An [API section](API/00_definitions.ipynb)\n",
    "- [x] nbdev_test by excluding parts\n",
    "- [x] Interactive plotly\n",
    "- [ ] Notebook that automates using template for new project?\n",
    "- [ ] Rust in Python notebook?\n",
    "- [ ] Julia notebook?"
   ]
  },
  {
   "cell_type": "code",
   "execution_count": null,
   "metadata": {
    "tags": []
   },
   "outputs": [
    {
     "name": "stdout",
     "output_type": "stream",
     "text": [
      "Output shown but code hidden by\n",
      "\n",
      "- selecting \"View->Collapse Selected Code\" (for notebook and slides)\n",
      "- #|echo: false (for nbdev_docs)\n"
     ]
    }
   ],
   "source": [
    "#|echo: false\n",
    "print(\"\"\"Output shown but code hidden by\n",
    "\n",
    "- selecting \"View->Collapse Selected Code\" (for notebook and slides)\n",
    "- #|echo: false (for nbdev_docs)\"\"\")"
   ]
  },
  {
   "cell_type": "code",
   "execution_count": null,
   "metadata": {},
   "outputs": [],
   "source": []
  }
 ],
 "metadata": {
  "kernelspec": {
   "display_name": "python3",
   "language": "python",
   "name": "python3"
  }
 },
 "nbformat": 4,
 "nbformat_minor": 4
}
