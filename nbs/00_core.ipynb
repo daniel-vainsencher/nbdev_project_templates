{
 "cells": [
  {
   "cell_type": "markdown",
   "metadata": {
    "slideshow": {
     "slide_type": "slide"
    },
    "tags": []
   },
   "source": [
    "# core\n",
    "\n",
    "> Fill in a module description here\n",
    "\n",
    "> This template just has a lot of copy&pastable functionality"
   ]
  },
  {
   "cell_type": "markdown",
   "metadata": {
    "slideshow": {
     "slide_type": "slide"
    },
    "tags": []
   },
   "source": [
    "## Checklist\n",
    "\n",
    "- [x] Docs site\n",
    "- [x] Slides\n",
    "- [x] Diagrams\n",
    "- [x] An [API section](API/00_definitions.ipynb)\n",
    "- [x] nbdev_test by excluding parts\n",
    "- [ ] Interactive plotly\n",
    "- [ ] Notebook that automates using template for new project?\n",
    "- [ ] Rust in Python notebook?\n",
    "- [ ] Julia notebook?"
   ]
  },
  {
   "cell_type": "code",
   "execution_count": null,
   "metadata": {
    "tags": []
   },
   "outputs": [
    {
     "name": "stdout",
     "output_type": "stream",
     "text": [
      "Output shown but code hidden by\n",
      "\n",
      "- selecting \"View->Collapse Selected Code\" (for notebook and slides)\n",
      "- #|echo: false (for nbdev_docs)\n"
     ]
    }
   ],
   "source": [
    "#|echo: false\n",
    "print(\"\"\"Output shown but code hidden by\n",
    "\n",
    "- selecting \"View->Collapse Selected Code\" (for notebook and slides)\n",
    "- #|echo: false (for nbdev_docs)\"\"\")"
   ]
  },
  {
   "cell_type": "markdown",
   "metadata": {
    "slideshow": {
     "slide_type": "slide"
    },
    "tags": []
   },
   "source": [
    "## Easily add interaction diagrams"
   ]
  },
  {
   "cell_type": "code",
   "execution_count": null,
   "metadata": {
    "slideshow": {
     "slide_type": "skip"
    },
    "tags": []
   },
   "outputs": [],
   "source": [
    "#| hide\n",
    "%load_ext nb_js_diagrammers\n",
    "\n"
   ]
  },
  {
   "cell_type": "code",
   "execution_count": null,
   "metadata": {
    "slideshow": {
     "slide_type": "fragment"
    },
    "tags": []
   },
   "outputs": [
    {
     "data": {
      "text/html": [
       "<iframe srcdoc=\"&lt;html&gt;\n",
       "    &lt;body&gt;\n",
       "        &lt;script src=&quot;https://cdn.jsdelivr.net/npm/mermaid/dist/mermaid.min.js&quot;&gt;&lt;/script&gt;\n",
       "        &lt;script&gt;\n",
       "            mermaid.initialize({ startOnLoad: true });\n",
       "        &lt;/script&gt;\n",
       " \n",
       "        &lt;div class=&quot;mermaid&quot;&gt;\n",
       "            sequenceDiagram\n",
       "    Alice-&gt;&gt;John: Hello John, how are you?\n",
       "    John--&gt;&gt;Alice: Great!\n",
       "    Alice-)John: See you later!\n",
       "        &lt;/div&gt;\n",
       " \n",
       "    &lt;/body&gt;\n",
       "&lt;/html&gt;\n",
       "\" width=\"100%\" height=\"350\"style=\"border:none !important;\" \"allowfullscreen\" \"webkitallowfullscreen\" \"mozallowfullscreen\"></iframe>"
      ],
      "text/plain": [
       "<nb_js_diagrammers.magics.JSDiagram>"
      ]
     },
     "execution_count": null,
     "metadata": {},
     "output_type": "execute_result"
    }
   ],
   "source": [
    "%%mermaid_magic -h 350\n",
    "\n",
    "sequenceDiagram\n",
    "    Alice->>John: Hello John, how are you?\n",
    "    John-->>Alice: Great!\n",
    "    Alice-)John: See you later!"
   ]
  },
  {
   "cell_type": "code",
   "execution_count": null,
   "metadata": {
    "tags": []
   },
   "outputs": [
    {
     "ename": "AssertionError",
     "evalue": "",
     "output_type": "error",
     "traceback": [
      "\u001b[0;31m---------------------------------------------------------------------------\u001b[0m",
      "\u001b[0;31mAssertionError\u001b[0m                            Traceback (most recent call last)",
      "Cell \u001b[0;32mIn[4], line 4\u001b[0m\n\u001b[1;32m      1\u001b[0m \u001b[38;5;66;03m# Note that diagrams seem to be incompatible with nbdev_test, so this notebook is \u001b[39;00m\n\u001b[1;32m      2\u001b[0m \u001b[38;5;66;03m# excluded (along with rest of nbs directory itself) by existence of .notest file\u001b[39;00m\n\u001b[1;32m      3\u001b[0m \u001b[38;5;66;03m# Exclusion demonstrated by nbdev_test passing despite the following:\u001b[39;00m\n\u001b[0;32m----> 4\u001b[0m \u001b[38;5;28;01massert\u001b[39;00m \u001b[38;5;28;01mFalse\u001b[39;00m\n",
      "\u001b[0;31mAssertionError\u001b[0m: "
     ]
    }
   ],
   "source": [
    "# Note that diagrams seem to be incompatible with nbdev_test, so this notebook is \n",
    "# excluded (along with rest of nbs directory itself) by existence of .notest file\n",
    "# Exclusion demonstrated by nbdev_test passing despite the following:\n",
    "assert False"
   ]
  },
  {
   "cell_type": "code",
   "execution_count": null,
   "metadata": {},
   "outputs": [],
   "source": []
  }
 ],
 "metadata": {
  "kernelspec": {
   "display_name": "python3",
   "language": "python",
   "name": "python3"
  }
 },
 "nbformat": 4,
 "nbformat_minor": 4
}
